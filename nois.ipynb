{
 "cells": [
  {
   "cell_type": "code",
   "execution_count": 54,
   "id": "e7a17984",
   "metadata": {},
   "outputs": [],
   "source": [
    "import cv2\n",
    "import numpy as np"
   ]
  },
  {
   "cell_type": "code",
   "execution_count": 57,
   "id": "5d155924",
   "metadata": {},
   "outputs": [
    {
     "name": "stdout",
     "output_type": "stream",
     "text": [
      "enter nameimg.jpg\n"
     ]
    }
   ],
   "source": [
    "img = cv2.imread(input(\"enter name\"))\n",
    "#img = 255-img"
   ]
  },
  {
   "cell_type": "code",
   "execution_count": 59,
   "id": "146fdd27",
   "metadata": {},
   "outputs": [],
   "source": [
    "kernel = np.ones((5,5),np.uint8)\n",
    "erosion = cv2.erode(img,kernel)\n",
    "dilation = cv2.dilate(img,kernel)\n",
    "opening = cv2.morphologyEx(img,cv2.MORPH_OPEN,kernel)\n",
    "closing  = cv2.morphologyEx(img,cv2.MORPH_CLOSE,kernel)\n",
    "gradient = cv2.morphologyEx(img,cv2.MORPH_GRADIENT,kernel)\n",
    "blackhat = cv2.morphologyEx(img,cv2.MORPH_BLACKHAT,kernel)\n",
    "cross = cv2.morphologyEx(img,cv2.MORPH_CROSS,kernel)\n",
    "ellipse = cv2.morphologyEx(img,cv2.MORPH_ELLIPSE,kernel)\n",
    "hitmis = cv2.morphologyEx(img,cv2.MORPH_HITMISS,kernel)\n",
    "rect = cv2.morphologyEx(img,cv2.MORPH_RECT,kernel)\n",
    "tophat = cv2.morphologyEx(img,cv2.MORPH_TOPHAT,kernel)"
   ]
  },
  {
   "cell_type": "code",
   "execution_count": 60,
   "id": "39032b14",
   "metadata": {},
   "outputs": [],
   "source": [
    "#cv2.imshow(\"img\",img)\n",
    "#cv2.imshow(\"erosion\",erosion)\n",
    "#cv2.imshow(\"dilation\",dilation)\n",
    "#cv2.imshow(\"opening\",opening)\n",
    "#cv2.imshow(\"gradient\",gradient)\n",
    "#cv2.imshow(\"tophat\",tophat)\n",
    "cv2.waitKey(0)\n",
    "cv2.destroyAllWindows()"
   ]
  },
  {
   "cell_type": "code",
   "execution_count": null,
   "id": "71abea8b",
   "metadata": {},
   "outputs": [],
   "source": []
  },
  {
   "cell_type": "code",
   "execution_count": null,
   "id": "558b525a",
   "metadata": {},
   "outputs": [],
   "source": []
  },
  {
   "cell_type": "code",
   "execution_count": null,
   "id": "e21896c3",
   "metadata": {},
   "outputs": [],
   "source": []
  },
  {
   "cell_type": "code",
   "execution_count": null,
   "id": "aa8967d5",
   "metadata": {},
   "outputs": [],
   "source": []
  }
 ],
 "metadata": {
  "kernelspec": {
   "display_name": "Python 3 (ipykernel)",
   "language": "python",
   "name": "python3"
  },
  "language_info": {
   "codemirror_mode": {
    "name": "ipython",
    "version": 3
   },
   "file_extension": ".py",
   "mimetype": "text/x-python",
   "name": "python",
   "nbconvert_exporter": "python",
   "pygments_lexer": "ipython3",
   "version": "3.9.7"
  }
 },
 "nbformat": 4,
 "nbformat_minor": 5
}
