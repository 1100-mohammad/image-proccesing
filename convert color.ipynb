{
 "cells": [
  {
   "cell_type": "code",
   "execution_count": 1,
   "id": "527936c6",
   "metadata": {},
   "outputs": [],
   "source": [
    "import cv2\n",
    "import numpy as np"
   ]
  },
  {
   "cell_type": "code",
   "execution_count": 2,
   "id": "a9ac7de6",
   "metadata": {},
   "outputs": [],
   "source": [
    "def empty(a):\n",
    "    pass\n",
    "\n",
    "\n",
    "\n",
    "cv2.namedWindow(\"trakbars\")\n",
    "cv2.resizeWindow(\"trakbars\",640,240)\n",
    "cv2.createTrackbar(\"h min\",\"trakbars\",0,179,empty)\n",
    "cv2.createTrackbar(\"h max\",\"trakbars\",179,179,empty)\n",
    "cv2.createTrackbar(\"s min\",\"trakbars\",0,255,empty)\n",
    "cv2.createTrackbar(\"s max\",\"trakbars\",255,255,empty)\n",
    "cv2.createTrackbar(\"v min\",\"trakbars\",0,255,empty)\n",
    "cv2.createTrackbar(\"v max\",\"trakbars\",255,255,empty)\n",
    "\n",
    "\n",
    "cap = cv2.VideoCapture(1)"
   ]
  },
  {
   "cell_type": "code",
   "execution_count": null,
   "id": "9c0e330f",
   "metadata": {},
   "outputs": [],
   "source": [
    "while True: #while(1)\n",
    "    h_min = cv2.getTrackbarPos(\"h min\",\"trakbars\")\n",
    "    h_max = cv2.getTrackbarPos(\"h max\",\"trakbars\")\n",
    "    s_min = cv2.getTrackbarPos(\"s min\",\"trakbars\")\n",
    "    s_max = cv2.getTrackbarPos(\"s max\",\"trakbars\")\n",
    "    v_min = cv2.getTrackbarPos(\"v min\",\"trakbars\")\n",
    "    v_max = cv2.getTrackbarPos(\"v max\",\"trakbars\")\n",
    "    \n",
    "    \n",
    "    \n",
    "    \n",
    "    \n",
    "    ret,frame = cap.read()\n",
    "    hsv = cv2.cvtColor(frame,cv2.COLOR_BGR2HSV)\n",
    "    lower = np.array([h_min,s_min,v_min])\n",
    "    upper = np.array([h_max,s_max,v_max])\n",
    "    mask = cv2.inRange(hsv,lower,upper)\n",
    "    res = cv2.bitwise_and(frame,frame,mask=mask)\n",
    "    cv2.imshow(\"frame\",frame)\n",
    "    cv2.imshow(\"mask\",mask)\n",
    "    cv2.imshow(\"res\",res)\n",
    "    cv2.waitKey(5) \n",
    "cv2.destroyAllWindows()"
   ]
  },
  {
   "cell_type": "code",
   "execution_count": null,
   "id": "55fe15e3",
   "metadata": {},
   "outputs": [],
   "source": []
  }
 ],
 "metadata": {
  "kernelspec": {
   "display_name": "Python 3 (ipykernel)",
   "language": "python",
   "name": "python3"
  },
  "language_info": {
   "codemirror_mode": {
    "name": "ipython",
    "version": 3
   },
   "file_extension": ".py",
   "mimetype": "text/x-python",
   "name": "python",
   "nbconvert_exporter": "python",
   "pygments_lexer": "ipython3",
   "version": "3.9.7"
  }
 },
 "nbformat": 4,
 "nbformat_minor": 5
}
