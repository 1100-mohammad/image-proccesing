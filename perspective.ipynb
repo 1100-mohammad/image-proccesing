{
 "cells": [
  {
   "cell_type": "code",
   "execution_count": 1,
   "id": "92307a19",
   "metadata": {},
   "outputs": [],
   "source": [
    "import cv2\n",
    "import numpy as np"
   ]
  },
  {
   "cell_type": "code",
   "execution_count": null,
   "id": "959bbb42",
   "metadata": {},
   "outputs": [],
   "source": []
  },
  {
   "cell_type": "code",
   "execution_count": 5,
   "id": "dba240cd",
   "metadata": {},
   "outputs": [],
   "source": [
    "img = cv2.imread(\"123.jpg\")\n",
    "\n",
    "width,height = 250,350\n",
    "pts1 = np.float32([[466,396],[606,474],[290,498],[424,579]])\n",
    "pts2 = np.float32([[0,0],[width,0],[0,height],[width,height]])\n",
    "metrix = cv2.getPerspectiveTransform(pts1,pts2)\n",
    "res = cv2.warpPerspective(img,metrix,(width,height))\n",
    "\n",
    "\n",
    "\n",
    "cv2.imshow(\"res\",res)\n",
    "#cv2.imshow(\"img\",img)\n",
    "cv2.waitKey(0)\n",
    "cv2.destroyAllWindows()"
   ]
  },
  {
   "cell_type": "code",
   "execution_count": null,
   "id": "250d952a",
   "metadata": {},
   "outputs": [],
   "source": []
  }
 ],
 "metadata": {
  "kernelspec": {
   "display_name": "Python 3 (ipykernel)",
   "language": "python",
   "name": "python3"
  },
  "language_info": {
   "codemirror_mode": {
    "name": "ipython",
    "version": 3
   },
   "file_extension": ".py",
   "mimetype": "text/x-python",
   "name": "python",
   "nbconvert_exporter": "python",
   "pygments_lexer": "ipython3",
   "version": "3.9.7"
  }
 },
 "nbformat": 4,
 "nbformat_minor": 5
}
