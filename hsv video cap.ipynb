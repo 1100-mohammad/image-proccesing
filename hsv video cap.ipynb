{
 "cells": [
  {
   "cell_type": "code",
   "execution_count": 1,
   "id": "b3fbc8db",
   "metadata": {},
   "outputs": [],
   "source": [
    "import cv2\n",
    "import numpy as np"
   ]
  },
  {
   "cell_type": "code",
   "execution_count": null,
   "id": "fbc59a92",
   "metadata": {},
   "outputs": [],
   "source": [
    "def empty(a):\n",
    "    pass\n",
    "\n",
    "cv2.namedWindow(\"trakbars\")\n",
    "cv2.resizeWindow(\"trakbars\",640,240)\n",
    "cv2.createTrackbar(\"h min\",\"trakbars\",0,179)"
   ]
  },
  {
   "cell_type": "code",
   "execution_count": null,
   "id": "b0359290",
   "metadata": {},
   "outputs": [],
   "source": [
    "cap = cv2.VideoCapture(1)\n",
    "while True:\n",
    "    _,frame = cap.read()\n",
    "    hsv = cv2.cvtColor(frame,cv2.COLOR_BGR2HSV)\n",
    "    lower = np.array([25,50,50])\n",
    "    upper = np.array([40,255,255])\n",
    "    mask = cv2.inRange(hsv,lower,upper)\n",
    "    res = cv2.bitwise_and(frame,frame,mask = mask)\n",
    "    cv2.imshow(\"frame\",frame)\n",
    "    cv2.imshow(\"mask\",mask)\n",
    "    cv2.imshow(\"res\",res)\n",
    "    cv2.waitKey(5)\n",
    "cv2.destroyAllWindows()"
   ]
  }
 ],
 "metadata": {
  "kernelspec": {
   "display_name": "Python 3 (ipykernel)",
   "language": "python",
   "name": "python3"
  },
  "language_info": {
   "codemirror_mode": {
    "name": "ipython",
    "version": 3
   },
   "file_extension": ".py",
   "mimetype": "text/x-python",
   "name": "python",
   "nbconvert_exporter": "python",
   "pygments_lexer": "ipython3",
   "version": "3.9.7"
  }
 },
 "nbformat": 4,
 "nbformat_minor": 5
}
